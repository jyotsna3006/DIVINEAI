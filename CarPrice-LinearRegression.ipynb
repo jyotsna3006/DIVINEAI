{
 "cells": [
  {
   "cell_type": "code",
   "execution_count": 1,
   "metadata": {},
   "outputs": [
    {
     "name": "stdout",
     "output_type": "stream",
     "text": [
      "C:\\Users\\KIIT\\PYTHON\n"
     ]
    }
   ],
   "source": [
    "import os\n",
    "print(os.getcwd())"
   ]
  },
  {
   "cell_type": "code",
   "execution_count": 2,
   "metadata": {},
   "outputs": [],
   "source": [
    "# To enable plotting graphs in Jupyter notebook\n",
    "%matplotlib inline "
   ]
  },
  {
   "cell_type": "code",
   "execution_count": 3,
   "metadata": {},
   "outputs": [],
   "source": [
    "import pandas as pd\n",
    "import numpy as np\n",
    "from sklearn.linear_model import LinearRegression\n",
    "col= ['symboling','normalized_losses','make','fuel_type','aspiration','num_of_doors','body_style','drive_wheels','engine_location','wheel_base','length','width','height','curb_weight','engine_type','num_of_cylinders','engine_size','fuel_system','bore','stroke','compression_ratio','horsepower','peak_rpm','city_mpg','highway_mpg','price']\n",
    "car_df = pd.read_csv(\"https://archive.ics.uci.edu/ml/machine-learning-databases/autos/imports-85.data\",names = col)"
   ]
  },
  {
   "cell_type": "code",
   "execution_count": 4,
   "metadata": {},
   "outputs": [
    {
     "data": {
      "text/plain": [
       "list"
      ]
     },
     "execution_count": 4,
     "metadata": {},
     "output_type": "execute_result"
    }
   ],
   "source": [
    "type(col)"
   ]
  },
  {
   "cell_type": "code",
   "execution_count": 5,
   "metadata": {},
   "outputs": [
    {
     "name": "stdout",
     "output_type": "stream",
     "text": [
      "<class 'pandas.core.frame.DataFrame'>\n",
      "RangeIndex: 205 entries, 0 to 204\n",
      "Data columns (total 26 columns):\n",
      " #   Column             Non-Null Count  Dtype  \n",
      "---  ------             --------------  -----  \n",
      " 0   symboling          205 non-null    int64  \n",
      " 1   normalized_losses  205 non-null    object \n",
      " 2   make               205 non-null    object \n",
      " 3   fuel_type          205 non-null    object \n",
      " 4   aspiration         205 non-null    object \n",
      " 5   num_of_doors       205 non-null    object \n",
      " 6   body_style         205 non-null    object \n",
      " 7   drive_wheels       205 non-null    object \n",
      " 8   engine_location    205 non-null    object \n",
      " 9   wheel_base         205 non-null    float64\n",
      " 10  length             205 non-null    float64\n",
      " 11  width              205 non-null    float64\n",
      " 12  height             205 non-null    float64\n",
      " 13  curb_weight        205 non-null    int64  \n",
      " 14  engine_type        205 non-null    object \n",
      " 15  num_of_cylinders   205 non-null    object \n",
      " 16  engine_size        205 non-null    int64  \n",
      " 17  fuel_system        205 non-null    object \n",
      " 18  bore               205 non-null    object \n",
      " 19  stroke             205 non-null    object \n",
      " 20  compression_ratio  205 non-null    float64\n",
      " 21  horsepower         205 non-null    object \n",
      " 22  peak_rpm           205 non-null    object \n",
      " 23  city_mpg           205 non-null    int64  \n",
      " 24  highway_mpg        205 non-null    int64  \n",
      " 25  price              205 non-null    object \n",
      "dtypes: float64(5), int64(5), object(16)\n",
      "memory usage: 41.8+ KB\n"
     ]
    }
   ],
   "source": [
    "car_df.info()"
   ]
  },
  {
   "cell_type": "code",
   "execution_count": 6,
   "metadata": {
    "scrolled": false
   },
   "outputs": [
    {
     "data": {
      "text/html": [
       "<div>\n",
       "<style scoped>\n",
       "    .dataframe tbody tr th:only-of-type {\n",
       "        vertical-align: middle;\n",
       "    }\n",
       "\n",
       "    .dataframe tbody tr th {\n",
       "        vertical-align: top;\n",
       "    }\n",
       "\n",
       "    .dataframe thead th {\n",
       "        text-align: right;\n",
       "    }\n",
       "</style>\n",
       "<table border=\"1\" class=\"dataframe\">\n",
       "  <thead>\n",
       "    <tr style=\"text-align: right;\">\n",
       "      <th></th>\n",
       "      <th>symboling</th>\n",
       "      <th>normalized_losses</th>\n",
       "      <th>make</th>\n",
       "      <th>fuel_type</th>\n",
       "      <th>aspiration</th>\n",
       "      <th>num_of_doors</th>\n",
       "      <th>body_style</th>\n",
       "      <th>drive_wheels</th>\n",
       "      <th>engine_location</th>\n",
       "      <th>wheel_base</th>\n",
       "      <th>...</th>\n",
       "      <th>engine_size</th>\n",
       "      <th>fuel_system</th>\n",
       "      <th>bore</th>\n",
       "      <th>stroke</th>\n",
       "      <th>compression_ratio</th>\n",
       "      <th>horsepower</th>\n",
       "      <th>peak_rpm</th>\n",
       "      <th>city_mpg</th>\n",
       "      <th>highway_mpg</th>\n",
       "      <th>price</th>\n",
       "    </tr>\n",
       "  </thead>\n",
       "  <tbody>\n",
       "    <tr>\n",
       "      <th>200</th>\n",
       "      <td>-1</td>\n",
       "      <td>95</td>\n",
       "      <td>volvo</td>\n",
       "      <td>gas</td>\n",
       "      <td>std</td>\n",
       "      <td>four</td>\n",
       "      <td>sedan</td>\n",
       "      <td>rwd</td>\n",
       "      <td>front</td>\n",
       "      <td>109.1</td>\n",
       "      <td>...</td>\n",
       "      <td>141</td>\n",
       "      <td>mpfi</td>\n",
       "      <td>3.78</td>\n",
       "      <td>3.15</td>\n",
       "      <td>9.5</td>\n",
       "      <td>114</td>\n",
       "      <td>5400</td>\n",
       "      <td>23</td>\n",
       "      <td>28</td>\n",
       "      <td>16845</td>\n",
       "    </tr>\n",
       "    <tr>\n",
       "      <th>201</th>\n",
       "      <td>-1</td>\n",
       "      <td>95</td>\n",
       "      <td>volvo</td>\n",
       "      <td>gas</td>\n",
       "      <td>turbo</td>\n",
       "      <td>four</td>\n",
       "      <td>sedan</td>\n",
       "      <td>rwd</td>\n",
       "      <td>front</td>\n",
       "      <td>109.1</td>\n",
       "      <td>...</td>\n",
       "      <td>141</td>\n",
       "      <td>mpfi</td>\n",
       "      <td>3.78</td>\n",
       "      <td>3.15</td>\n",
       "      <td>8.7</td>\n",
       "      <td>160</td>\n",
       "      <td>5300</td>\n",
       "      <td>19</td>\n",
       "      <td>25</td>\n",
       "      <td>19045</td>\n",
       "    </tr>\n",
       "    <tr>\n",
       "      <th>202</th>\n",
       "      <td>-1</td>\n",
       "      <td>95</td>\n",
       "      <td>volvo</td>\n",
       "      <td>gas</td>\n",
       "      <td>std</td>\n",
       "      <td>four</td>\n",
       "      <td>sedan</td>\n",
       "      <td>rwd</td>\n",
       "      <td>front</td>\n",
       "      <td>109.1</td>\n",
       "      <td>...</td>\n",
       "      <td>173</td>\n",
       "      <td>mpfi</td>\n",
       "      <td>3.58</td>\n",
       "      <td>2.87</td>\n",
       "      <td>8.8</td>\n",
       "      <td>134</td>\n",
       "      <td>5500</td>\n",
       "      <td>18</td>\n",
       "      <td>23</td>\n",
       "      <td>21485</td>\n",
       "    </tr>\n",
       "    <tr>\n",
       "      <th>203</th>\n",
       "      <td>-1</td>\n",
       "      <td>95</td>\n",
       "      <td>volvo</td>\n",
       "      <td>diesel</td>\n",
       "      <td>turbo</td>\n",
       "      <td>four</td>\n",
       "      <td>sedan</td>\n",
       "      <td>rwd</td>\n",
       "      <td>front</td>\n",
       "      <td>109.1</td>\n",
       "      <td>...</td>\n",
       "      <td>145</td>\n",
       "      <td>idi</td>\n",
       "      <td>3.01</td>\n",
       "      <td>3.40</td>\n",
       "      <td>23.0</td>\n",
       "      <td>106</td>\n",
       "      <td>4800</td>\n",
       "      <td>26</td>\n",
       "      <td>27</td>\n",
       "      <td>22470</td>\n",
       "    </tr>\n",
       "    <tr>\n",
       "      <th>204</th>\n",
       "      <td>-1</td>\n",
       "      <td>95</td>\n",
       "      <td>volvo</td>\n",
       "      <td>gas</td>\n",
       "      <td>turbo</td>\n",
       "      <td>four</td>\n",
       "      <td>sedan</td>\n",
       "      <td>rwd</td>\n",
       "      <td>front</td>\n",
       "      <td>109.1</td>\n",
       "      <td>...</td>\n",
       "      <td>141</td>\n",
       "      <td>mpfi</td>\n",
       "      <td>3.78</td>\n",
       "      <td>3.15</td>\n",
       "      <td>9.5</td>\n",
       "      <td>114</td>\n",
       "      <td>5400</td>\n",
       "      <td>19</td>\n",
       "      <td>25</td>\n",
       "      <td>22625</td>\n",
       "    </tr>\n",
       "  </tbody>\n",
       "</table>\n",
       "<p>5 rows × 26 columns</p>\n",
       "</div>"
      ],
      "text/plain": [
       "     symboling normalized_losses   make fuel_type aspiration num_of_doors  \\\n",
       "200         -1                95  volvo       gas        std         four   \n",
       "201         -1                95  volvo       gas      turbo         four   \n",
       "202         -1                95  volvo       gas        std         four   \n",
       "203         -1                95  volvo    diesel      turbo         four   \n",
       "204         -1                95  volvo       gas      turbo         four   \n",
       "\n",
       "    body_style drive_wheels engine_location  wheel_base  ...  engine_size  \\\n",
       "200      sedan          rwd           front       109.1  ...          141   \n",
       "201      sedan          rwd           front       109.1  ...          141   \n",
       "202      sedan          rwd           front       109.1  ...          173   \n",
       "203      sedan          rwd           front       109.1  ...          145   \n",
       "204      sedan          rwd           front       109.1  ...          141   \n",
       "\n",
       "     fuel_system  bore  stroke compression_ratio horsepower  peak_rpm  \\\n",
       "200         mpfi  3.78    3.15               9.5        114      5400   \n",
       "201         mpfi  3.78    3.15               8.7        160      5300   \n",
       "202         mpfi  3.58    2.87               8.8        134      5500   \n",
       "203          idi  3.01    3.40              23.0        106      4800   \n",
       "204         mpfi  3.78    3.15               9.5        114      5400   \n",
       "\n",
       "    city_mpg highway_mpg  price  \n",
       "200       23          28  16845  \n",
       "201       19          25  19045  \n",
       "202       18          23  21485  \n",
       "203       26          27  22470  \n",
       "204       19          25  22625  \n",
       "\n",
       "[5 rows x 26 columns]"
      ]
     },
     "execution_count": 6,
     "metadata": {},
     "output_type": "execute_result"
    }
   ],
   "source": [
    "car_df.tail()"
   ]
  },
  {
   "cell_type": "code",
   "execution_count": 7,
   "metadata": {},
   "outputs": [
    {
     "data": {
      "text/plain": [
       "(205, 26)"
      ]
     },
     "execution_count": 7,
     "metadata": {},
     "output_type": "execute_result"
    }
   ],
   "source": [
    "car_df.shape"
   ]
  },
  {
   "cell_type": "code",
   "execution_count": 8,
   "metadata": {},
   "outputs": [
    {
     "data": {
      "text/plain": [
       "symboling              int64\n",
       "normalized_losses     object\n",
       "make                  object\n",
       "fuel_type             object\n",
       "aspiration            object\n",
       "num_of_doors          object\n",
       "body_style            object\n",
       "drive_wheels          object\n",
       "engine_location       object\n",
       "wheel_base           float64\n",
       "length               float64\n",
       "width                float64\n",
       "height               float64\n",
       "curb_weight            int64\n",
       "engine_type           object\n",
       "num_of_cylinders      object\n",
       "engine_size            int64\n",
       "fuel_system           object\n",
       "bore                  object\n",
       "stroke                object\n",
       "compression_ratio    float64\n",
       "horsepower            object\n",
       "peak_rpm              object\n",
       "city_mpg               int64\n",
       "highway_mpg            int64\n",
       "price                 object\n",
       "dtype: object"
      ]
     },
     "execution_count": 8,
     "metadata": {},
     "output_type": "execute_result"
    }
   ],
   "source": [
    "car_df.dtypes"
   ]
  },
  {
   "cell_type": "code",
   "execution_count": 9,
   "metadata": {},
   "outputs": [],
   "source": [
    "car_df = car_df.drop('make', axis=1) \n",
    "car_df = car_df.drop('fuel_type', axis=1)\n",
    "car_df = car_df.drop('engine_location', axis=1)\n",
    "car_df = car_df.drop('num_of_doors', axis=1) \n",
    "car_df = car_df.drop('body_style' , axis=1)\n",
    "car_df = car_df.drop('drive_wheels', axis=1)\n",
    "car_df = car_df.drop('engine_type', axis=1)\n",
    "car_df = car_df.drop('fuel_system', axis=1)\n",
    "car_df = car_df.drop('aspiration', axis=1)\n",
    "car_df = car_df.drop('normalized_losses', axis=1)"
   ]
  },
  {
   "cell_type": "code",
   "execution_count": 10,
   "metadata": {},
   "outputs": [
    {
     "data": {
      "text/plain": [
       "symboling              int64\n",
       "wheel_base           float64\n",
       "length               float64\n",
       "width                float64\n",
       "height               float64\n",
       "curb_weight            int64\n",
       "num_of_cylinders      object\n",
       "engine_size            int64\n",
       "bore                  object\n",
       "stroke                object\n",
       "compression_ratio    float64\n",
       "horsepower            object\n",
       "peak_rpm              object\n",
       "city_mpg               int64\n",
       "highway_mpg            int64\n",
       "price                 object\n",
       "dtype: object"
      ]
     },
     "execution_count": 10,
     "metadata": {},
     "output_type": "execute_result"
    }
   ],
   "source": [
    "car_df.dtypes"
   ]
  },
  {
   "cell_type": "code",
   "execution_count": 11,
   "metadata": {},
   "outputs": [],
   "source": [
    "car_df['cylinder'] = car_df['num_of_cylinders'].replace({'one': 1, 'two': 2, 'three': 3, 'four': 4, 'five':5, 'six': 6, 'seven': 7, 'eight': 8, 'nine': 9, 'ten': 10, 'eleven': 11, 'twelve': 12})"
   ]
  },
  {
   "cell_type": "code",
   "execution_count": 12,
   "metadata": {},
   "outputs": [],
   "source": [
    "car_df = car_df.replace('?', np.nan)  \n",
    "#car_df[car_df.isnull().any(axis=1)]  # display records with 'NA' "
   ]
  },
  {
   "cell_type": "code",
   "execution_count": 13,
   "metadata": {},
   "outputs": [],
   "source": [
    "car_df['bore'] = car_df['bore'].astype('float64')\n",
    "car_df['stroke']= car_df['stroke'].astype('float64')\n",
    "car_df['horsepower']= car_df['horsepower'].astype('float64')\n",
    "car_df['peak_rpm']= car_df['peak_rpm'].astype('float64')\n",
    "car_df['price'] = car_df['price'].astype('float64')"
   ]
  },
  {
   "cell_type": "code",
   "execution_count": 14,
   "metadata": {},
   "outputs": [],
   "source": [
    "car_df['price'] = car_df['price'].fillna(car_df['price'].median())\n",
    "car_df['bore']= car_df['bore'].fillna(car_df['bore'].median())\n",
    "car_df['horsepower'] = car_df['horsepower'].fillna(car_df['horsepower'].median())\n",
    "car_df['peak_rpm'] = car_df['peak_rpm'].fillna(car_df['peak_rpm'].median())\n",
    "car_df['stroke'] = car_df['stroke'].fillna(car_df['stroke'].median())\n",
    "car_df['cylinder'] = car_df['cylinder'].fillna(car_df['cylinder'].median())"
   ]
  },
  {
   "cell_type": "code",
   "execution_count": 15,
   "metadata": {},
   "outputs": [
    {
     "data": {
      "text/html": [
       "<div>\n",
       "<style scoped>\n",
       "    .dataframe tbody tr th:only-of-type {\n",
       "        vertical-align: middle;\n",
       "    }\n",
       "\n",
       "    .dataframe tbody tr th {\n",
       "        vertical-align: top;\n",
       "    }\n",
       "\n",
       "    .dataframe thead th {\n",
       "        text-align: right;\n",
       "    }\n",
       "</style>\n",
       "<table border=\"1\" class=\"dataframe\">\n",
       "  <thead>\n",
       "    <tr style=\"text-align: right;\">\n",
       "      <th></th>\n",
       "      <th>count</th>\n",
       "      <th>mean</th>\n",
       "      <th>std</th>\n",
       "      <th>min</th>\n",
       "      <th>25%</th>\n",
       "      <th>50%</th>\n",
       "      <th>75%</th>\n",
       "      <th>max</th>\n",
       "    </tr>\n",
       "  </thead>\n",
       "  <tbody>\n",
       "    <tr>\n",
       "      <th>symboling</th>\n",
       "      <td>205.0</td>\n",
       "      <td>0.834146</td>\n",
       "      <td>1.245307</td>\n",
       "      <td>-2.00</td>\n",
       "      <td>0.00</td>\n",
       "      <td>1.00</td>\n",
       "      <td>2.00</td>\n",
       "      <td>3.00</td>\n",
       "    </tr>\n",
       "    <tr>\n",
       "      <th>wheel_base</th>\n",
       "      <td>205.0</td>\n",
       "      <td>98.756585</td>\n",
       "      <td>6.021776</td>\n",
       "      <td>86.60</td>\n",
       "      <td>94.50</td>\n",
       "      <td>97.00</td>\n",
       "      <td>102.40</td>\n",
       "      <td>120.90</td>\n",
       "    </tr>\n",
       "    <tr>\n",
       "      <th>length</th>\n",
       "      <td>205.0</td>\n",
       "      <td>174.049268</td>\n",
       "      <td>12.337289</td>\n",
       "      <td>141.10</td>\n",
       "      <td>166.30</td>\n",
       "      <td>173.20</td>\n",
       "      <td>183.10</td>\n",
       "      <td>208.10</td>\n",
       "    </tr>\n",
       "    <tr>\n",
       "      <th>width</th>\n",
       "      <td>205.0</td>\n",
       "      <td>65.907805</td>\n",
       "      <td>2.145204</td>\n",
       "      <td>60.30</td>\n",
       "      <td>64.10</td>\n",
       "      <td>65.50</td>\n",
       "      <td>66.90</td>\n",
       "      <td>72.30</td>\n",
       "    </tr>\n",
       "    <tr>\n",
       "      <th>height</th>\n",
       "      <td>205.0</td>\n",
       "      <td>53.724878</td>\n",
       "      <td>2.443522</td>\n",
       "      <td>47.80</td>\n",
       "      <td>52.00</td>\n",
       "      <td>54.10</td>\n",
       "      <td>55.50</td>\n",
       "      <td>59.80</td>\n",
       "    </tr>\n",
       "    <tr>\n",
       "      <th>curb_weight</th>\n",
       "      <td>205.0</td>\n",
       "      <td>2555.565854</td>\n",
       "      <td>520.680204</td>\n",
       "      <td>1488.00</td>\n",
       "      <td>2145.00</td>\n",
       "      <td>2414.00</td>\n",
       "      <td>2935.00</td>\n",
       "      <td>4066.00</td>\n",
       "    </tr>\n",
       "    <tr>\n",
       "      <th>engine_size</th>\n",
       "      <td>205.0</td>\n",
       "      <td>126.907317</td>\n",
       "      <td>41.642693</td>\n",
       "      <td>61.00</td>\n",
       "      <td>97.00</td>\n",
       "      <td>120.00</td>\n",
       "      <td>141.00</td>\n",
       "      <td>326.00</td>\n",
       "    </tr>\n",
       "    <tr>\n",
       "      <th>bore</th>\n",
       "      <td>205.0</td>\n",
       "      <td>3.329366</td>\n",
       "      <td>0.270858</td>\n",
       "      <td>2.54</td>\n",
       "      <td>3.15</td>\n",
       "      <td>3.31</td>\n",
       "      <td>3.58</td>\n",
       "      <td>3.94</td>\n",
       "    </tr>\n",
       "    <tr>\n",
       "      <th>stroke</th>\n",
       "      <td>205.0</td>\n",
       "      <td>3.256098</td>\n",
       "      <td>0.313634</td>\n",
       "      <td>2.07</td>\n",
       "      <td>3.11</td>\n",
       "      <td>3.29</td>\n",
       "      <td>3.41</td>\n",
       "      <td>4.17</td>\n",
       "    </tr>\n",
       "    <tr>\n",
       "      <th>compression_ratio</th>\n",
       "      <td>205.0</td>\n",
       "      <td>10.142537</td>\n",
       "      <td>3.972040</td>\n",
       "      <td>7.00</td>\n",
       "      <td>8.60</td>\n",
       "      <td>9.00</td>\n",
       "      <td>9.40</td>\n",
       "      <td>23.00</td>\n",
       "    </tr>\n",
       "    <tr>\n",
       "      <th>horsepower</th>\n",
       "      <td>205.0</td>\n",
       "      <td>104.165854</td>\n",
       "      <td>39.529733</td>\n",
       "      <td>48.00</td>\n",
       "      <td>70.00</td>\n",
       "      <td>95.00</td>\n",
       "      <td>116.00</td>\n",
       "      <td>288.00</td>\n",
       "    </tr>\n",
       "    <tr>\n",
       "      <th>peak_rpm</th>\n",
       "      <td>205.0</td>\n",
       "      <td>5126.097561</td>\n",
       "      <td>477.035772</td>\n",
       "      <td>4150.00</td>\n",
       "      <td>4800.00</td>\n",
       "      <td>5200.00</td>\n",
       "      <td>5500.00</td>\n",
       "      <td>6600.00</td>\n",
       "    </tr>\n",
       "    <tr>\n",
       "      <th>city_mpg</th>\n",
       "      <td>205.0</td>\n",
       "      <td>25.219512</td>\n",
       "      <td>6.542142</td>\n",
       "      <td>13.00</td>\n",
       "      <td>19.00</td>\n",
       "      <td>24.00</td>\n",
       "      <td>30.00</td>\n",
       "      <td>49.00</td>\n",
       "    </tr>\n",
       "    <tr>\n",
       "      <th>highway_mpg</th>\n",
       "      <td>205.0</td>\n",
       "      <td>30.751220</td>\n",
       "      <td>6.886443</td>\n",
       "      <td>16.00</td>\n",
       "      <td>25.00</td>\n",
       "      <td>30.00</td>\n",
       "      <td>34.00</td>\n",
       "      <td>54.00</td>\n",
       "    </tr>\n",
       "    <tr>\n",
       "      <th>price</th>\n",
       "      <td>205.0</td>\n",
       "      <td>13150.307317</td>\n",
       "      <td>7879.121326</td>\n",
       "      <td>5118.00</td>\n",
       "      <td>7788.00</td>\n",
       "      <td>10295.00</td>\n",
       "      <td>16500.00</td>\n",
       "      <td>45400.00</td>\n",
       "    </tr>\n",
       "    <tr>\n",
       "      <th>cylinder</th>\n",
       "      <td>205.0</td>\n",
       "      <td>4.380488</td>\n",
       "      <td>1.080854</td>\n",
       "      <td>2.00</td>\n",
       "      <td>4.00</td>\n",
       "      <td>4.00</td>\n",
       "      <td>4.00</td>\n",
       "      <td>12.00</td>\n",
       "    </tr>\n",
       "  </tbody>\n",
       "</table>\n",
       "</div>"
      ],
      "text/plain": [
       "                   count          mean          std      min      25%  \\\n",
       "symboling          205.0      0.834146     1.245307    -2.00     0.00   \n",
       "wheel_base         205.0     98.756585     6.021776    86.60    94.50   \n",
       "length             205.0    174.049268    12.337289   141.10   166.30   \n",
       "width              205.0     65.907805     2.145204    60.30    64.10   \n",
       "height             205.0     53.724878     2.443522    47.80    52.00   \n",
       "curb_weight        205.0   2555.565854   520.680204  1488.00  2145.00   \n",
       "engine_size        205.0    126.907317    41.642693    61.00    97.00   \n",
       "bore               205.0      3.329366     0.270858     2.54     3.15   \n",
       "stroke             205.0      3.256098     0.313634     2.07     3.11   \n",
       "compression_ratio  205.0     10.142537     3.972040     7.00     8.60   \n",
       "horsepower         205.0    104.165854    39.529733    48.00    70.00   \n",
       "peak_rpm           205.0   5126.097561   477.035772  4150.00  4800.00   \n",
       "city_mpg           205.0     25.219512     6.542142    13.00    19.00   \n",
       "highway_mpg        205.0     30.751220     6.886443    16.00    25.00   \n",
       "price              205.0  13150.307317  7879.121326  5118.00  7788.00   \n",
       "cylinder           205.0      4.380488     1.080854     2.00     4.00   \n",
       "\n",
       "                        50%       75%       max  \n",
       "symboling              1.00      2.00      3.00  \n",
       "wheel_base            97.00    102.40    120.90  \n",
       "length               173.20    183.10    208.10  \n",
       "width                 65.50     66.90     72.30  \n",
       "height                54.10     55.50     59.80  \n",
       "curb_weight         2414.00   2935.00   4066.00  \n",
       "engine_size          120.00    141.00    326.00  \n",
       "bore                   3.31      3.58      3.94  \n",
       "stroke                 3.29      3.41      4.17  \n",
       "compression_ratio      9.00      9.40     23.00  \n",
       "horsepower            95.00    116.00    288.00  \n",
       "peak_rpm            5200.00   5500.00   6600.00  \n",
       "city_mpg              24.00     30.00     49.00  \n",
       "highway_mpg           30.00     34.00     54.00  \n",
       "price              10295.00  16500.00  45400.00  \n",
       "cylinder               4.00      4.00     12.00  "
      ]
     },
     "execution_count": 15,
     "metadata": {},
     "output_type": "execute_result"
    }
   ],
   "source": [
    "# Look at the distribution of data on the various attributes. Look for outliers.... \n",
    "car_df.describe().transpose()"
   ]
  },
  {
   "cell_type": "markdown",
   "metadata": {
    "collapsed": true
   },
   "source": [
    "Do not consider other attributes such as number of doors, engine location etc due to low variance filter concept\n",
    "pair plot shows clearly some relation between price and height, curb weight, engine size, number of cylinders, horsepower and inversely related to mpg\n",
    "\n",
    "The data seems to be a mix of cars of high end and economy leading to a cluster of points at lower end in many of the attributes, leading to a long tail in multiple attributes"
   ]
  },
  {
   "cell_type": "code",
   "execution_count": 16,
   "metadata": {},
   "outputs": [
    {
     "data": {
      "text/plain": [
       "(205, 17)"
      ]
     },
     "execution_count": 16,
     "metadata": {},
     "output_type": "execute_result"
    }
   ],
   "source": [
    "car_df.shape"
   ]
  },
  {
   "cell_type": "code",
   "execution_count": 17,
   "metadata": {},
   "outputs": [],
   "source": [
    "X = car_df.drop('price', axis=1)"
   ]
  },
  {
   "cell_type": "code",
   "execution_count": 18,
   "metadata": {},
   "outputs": [],
   "source": [
    "y = car_df['price']\n",
    "X = X.drop('num_of_cylinders', axis=1)"
   ]
  },
  {
   "cell_type": "code",
   "execution_count": 19,
   "metadata": {},
   "outputs": [],
   "source": [
    "from sklearn.model_selection import train_test_split"
   ]
  },
  {
   "cell_type": "code",
   "execution_count": 20,
   "metadata": {},
   "outputs": [
    {
     "name": "stdout",
     "output_type": "stream",
     "text": [
      "0.8362176483290366\n"
     ]
    }
   ],
   "source": [
    "X_train, X_test, y_train, y_test = train_test_split(X, y, test_size=0.25, random_state=1)\n",
    "regression_model = LinearRegression()\n",
    "regression_model.fit(X_train, y_train)\n",
    "print(regression_model.score(X_test, y_test))"
   ]
  },
  {
   "cell_type": "markdown",
   "metadata": {},
   "source": [
    "How can the model peformance be improved? \n",
    "1. Always address outliers first. Linear models get easily impacted by outliers\n",
    "2. We noticed that on many attributes, there was a clump of data points on lower values and scattered on high values\n",
    "3. That is an indication of mixing data from two or more different segments. Maybe if we segregate the data we will get better results\n",
    "4. Not all attributes show a linear relation to price. Convert these attributes to quadratic form which may give a better fit on linear model"
   ]
  },
  {
   "cell_type": "code",
   "execution_count": 21,
   "metadata": {},
   "outputs": [
    {
     "name": "stdout",
     "output_type": "stream",
     "text": [
      "<class 'pandas.core.frame.DataFrame'>\n",
      "RangeIndex: 205 entries, 0 to 204\n",
      "Data columns (total 17 columns):\n",
      " #   Column             Non-Null Count  Dtype  \n",
      "---  ------             --------------  -----  \n",
      " 0   symboling          205 non-null    int64  \n",
      " 1   wheel_base         205 non-null    float64\n",
      " 2   length             205 non-null    float64\n",
      " 3   width              205 non-null    float64\n",
      " 4   height             205 non-null    float64\n",
      " 5   curb_weight        205 non-null    int64  \n",
      " 6   num_of_cylinders   205 non-null    object \n",
      " 7   engine_size        205 non-null    int64  \n",
      " 8   bore               205 non-null    float64\n",
      " 9   stroke             205 non-null    float64\n",
      " 10  compression_ratio  205 non-null    float64\n",
      " 11  horsepower         205 non-null    float64\n",
      " 12  peak_rpm           205 non-null    float64\n",
      " 13  city_mpg           205 non-null    int64  \n",
      " 14  highway_mpg        205 non-null    int64  \n",
      " 15  price              205 non-null    float64\n",
      " 16  cylinder           205 non-null    int64  \n",
      "dtypes: float64(10), int64(6), object(1)\n",
      "memory usage: 27.4+ KB\n"
     ]
    }
   ],
   "source": [
    "car_df.info()"
   ]
  }
 ],
 "metadata": {
  "kernelspec": {
   "display_name": "Python 3",
   "language": "python",
   "name": "python3"
  },
  "language_info": {
   "codemirror_mode": {
    "name": "ipython",
    "version": 3
   },
   "file_extension": ".py",
   "mimetype": "text/x-python",
   "name": "python",
   "nbconvert_exporter": "python",
   "pygments_lexer": "ipython3",
   "version": "3.8.8"
  }
 },
 "nbformat": 4,
 "nbformat_minor": 2
}
